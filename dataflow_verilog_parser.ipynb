{
 "cells": [
  {
   "cell_type": "code",
   "execution_count": 1,
   "metadata": {},
   "outputs": [],
   "source": [
    "#Convert K-Map derived Sum of Product Equations into Dataflow verilog Code."
   ]
  },
  {
   "cell_type": "code",
   "execution_count": 2,
   "metadata": {},
   "outputs": [],
   "source": [
    "import numpy as np\n",
    "import time"
   ]
  },
  {
   "cell_type": "code",
   "execution_count": 3,
   "metadata": {},
   "outputs": [],
   "source": [
    "LED_equations = np.array([\"D[0] = Y₃Y₂' + Y₃Y₀' + Y₂Y₁Y₀\",\n",
    "        \"D[1] = Y₂Y₀' + Y₂'Y₁Y₀ + Y₃'Y₂Y₁'\",\n",
    "        \"D[2] = Y₁Y₀' + Y₃'Y₁'Y₀ + Y₂'Y₁'Y₀\", \"D[3] = Y₀'\"])\n",
    "HEX_equations = np.array([[\"D[0] = Y₃'Y₂' + Y₃'Y₁ + Y₂Y₀ + Y₃Y₀'\",\n",
    "        \"D[1] = Y₂ + Y₃'Y₀' + Y₃Y₁'\",\n",
    "        \"D[2] = Y₃Y₁' + Y₂Y₀ + Y₂Y₁ + Y₃'Y₂'Y₀'\",\n",
    "        \"D[3] = Y₂'Y₀' + Y₂Y₁ + Y₃Y₁ + Y₃Y₂\",\n",
    "        \"D[4] = Y₃Y₂ + Y₂Y₁'Y₀' + Y₂Y₁Y₀ + Y₃Y₁Y₀\",\n",
    "        \"D[5] = Y₃'Y₁ + Y₃Y₂ + Y₃'Y₂'Y₀\",\n",
    "        \"D[6] = Y₃Y₁' + Y₂'Y₁'Y₀' + Y₂Y₁Y₀\"],\n",
    "       [\"D[0] = Y₀ + Y₁ + Y₃Y₂'\", \"D[1] = Y₃'Y₂' + Y₂'Y₀ + Y₂Y₁'\",\n",
    "        \"D[2] = Y₂Y₁' + Y₃Y₀ + Y₃'Y₂'Y₀' + Y₃'Y₂'Y₁\",\n",
    "        \"D[3] = Y₃'Y₂' + Y₂'Y₀' + Y₂'Y₁ + Y₁Y₀' + Y₂Y₁'Y₀\",\n",
    "        \"D[4] = Y₂Y₁'Y₀ + Y₃'Y₂'Y₁Y₀'\",\n",
    "        \"D[5] = Y₃'Y₁'Y₀ + Y₂Y₁'Y₀ + Y₃'Y₂'Y₁Y₀'\",\n",
    "        \"D[6] = Y₁Y₀ + Y₂Y₀ + Y₃'Y₂'Y₁\"],\n",
    "       [\"D[0] = Y₂'Y₁' + Y₃'Y₀' + Y₃'Y₁ + Y₃Y₀\",\n",
    "        \"D[1] = Y₂'Y₁' + Y₃'Y₀ + Y₁'Y₀ + Y₂Y₁ + Y₃Y₂'Y₀'\",\n",
    "        \"D[2] = Y₂'Y₁' + Y₂Y₁ + Y₃'Y₂'Y₀ + Y₃Y₂'Y₀' + Y₃Y₁'Y₀\",\n",
    "        \"D[3] = Y₂'Y₁' + Y₃Y₁' + Y₁Y₀\",\n",
    "        \"D[4] = Y₃Y₂ + Y₂'Y₁'Y₀' + Y₂Y₁'Y₀\",\n",
    "        \"D[5] = Y₃'Y₂'Y₀' + Y₃'Y₁'Y₀' + Y₂'Y₁'Y₀' + Y₃'Y₁Y₀ + Y₃Y₂Y₀\",\n",
    "        \"D[6] = Y₂'Y₁' + Y₃Y₂'Y₀' + Y₃Y₁'Y₀\"],\n",
    "       [\"D[0] = Y₀' + Y₁ + Y₃Y₂'\", \"D[1] = Y₃'Y₂' + Y₂Y₁' + Y₁Y₀'\",\n",
    "        \"D[2] = Y₃'Y₁' + Y₂Y₁' + Y₂Y₀' + Y₃'Y₂'Y₀ + Y₃Y₁Y₀'\",\n",
    "        \"D[3] = Y₃'Y₂' + Y₂'Y₀ + Y₃'Y₁ + Y₂Y₀'\",\n",
    "        \"D[4] = Y₂Y₁Y₀' + Y₃'Y₂'Y₁'Y₀' + Y₃'Y₂'Y₁Y₀\",\n",
    "        \"D[5] = Y₃'Y₂'Y₀' + Y₃'Y₂'Y₁ + Y₃'Y₁Y₀'\",\n",
    "        \"D[6] = Y₁'Y₀' + Y₂Y₀' + Y₃'Y₂'Y₁Y₀\"]])"
   ]
  },
  {
   "cell_type": "code",
   "execution_count": 4,
   "metadata": {},
   "outputs": [],
   "source": [
    "def parse_line(equation, inpt, output):\n",
    "    \"\"\"\n",
    "    Parses individual equation to verilog equation.\n",
    "    Parameter:\n",
    "    1. equation: The equation to convert into verilog code.\n",
    "    2. inpt: The input variable names.\n",
    "    3. output: The output variable names.\n",
    "    Returns:\n",
    "    1. verilog: The corresponding verilog code\n",
    "    \"\"\"\n",
    "    index = 0\n",
    "    counter = 0\n",
    "    \n",
    "    result = equation.split(\" = \")[0]\n",
    "    \n",
    "    f_x = \"\"\n",
    "    expression = \"\"\n",
    "    \n",
    "    for res in result:\n",
    "        if(res.isnumeric()):\n",
    "            f_x += str(int(res))\n",
    "        else:\n",
    "            if(res == 'D'):\n",
    "                f_x += inpt\n",
    "            else:\n",
    "                f_x += res\n",
    "                \n",
    "    express = equation.split(\" =\")[1] + \" \"\n",
    "    SUB_NORM = str.maketrans(\"₀₁₂₃₄₅₆₇₈₉\",  \"0123456789\")\n",
    "    express = express.translate(SUB_NORM)\n",
    "    express = express.replace(\"+\", \"|\")\n",
    "    express = express.replace(\"Y\", output)\n",
    "    \n",
    "    for i in range(len(express)-1):\n",
    "        if(express[i+1] == \"'\"):\n",
    "            expression += \"(\" + \"~\" + output + \"[\" + str(int(express[i])) + \"])\" \n",
    "        elif(express[i+1] != \"'\" and express[i].isnumeric()):\n",
    "            expression += output + \"[\" + str(int(express[i])) + \"]\"\n",
    "        if(express[i] == \"|\"):\n",
    "            expression += \") | (\"\n",
    "        \n",
    "    value = \"\"\n",
    "    for j in range(len(expression)-1):\n",
    "        value += expression[j]\n",
    "        if(expression[j] == \"]\" and expression[j+1] == \"i\"):\n",
    "            value += \" & \"\n",
    "        if(expression[j] == \")\" and expression[j+1] == \"i\"):\n",
    "            value += \" & \"\n",
    "        if(expression[j] == \"]\" and expression[j+1] == \"(\"):\n",
    "            value += \" & \"\n",
    "        if(expression[j] == \")\" and expression[j+1] == \"(\"):\n",
    "            value += \" & \"\n",
    "    value = value + expression[len(value)]\n",
    "    return \"assign \" + f_x + \" = \" + \"(\" + value + \");\""
   ]
  },
  {
   "cell_type": "code",
   "execution_count": null,
   "metadata": {},
   "outputs": [],
   "source": []
  },
  {
   "cell_type": "code",
   "execution_count": 5,
   "metadata": {},
   "outputs": [],
   "source": [
    "def equation_convert(set_equations, inpt, out):\n",
    "    \"\"\"\n",
    "    Converts set of boolean expressions into dataflow verilog.\n",
    "    \"\"\"\n",
    "    equations = []\n",
    "    for one in set_equations:\n",
    "        eq = parse_line(one, inpt, out)\n",
    "        equations.append(eq)\n",
    "    return np.array(equations)"
   ]
  },
  {
   "cell_type": "code",
   "execution_count": 6,
   "metadata": {},
   "outputs": [],
   "source": [
    "def HEX_equation_convert(hex_set, inpt, output):\n",
    "    \"\"\"\n",
    "    Converts series of HEX equations to dataflow verilog structure.\n",
    "    Returns verilog code.\n",
    "    \"\"\"\n",
    "    hex_code = []\n",
    "    for set_0 in hex_set:\n",
    "        a_set = equation_convert(set_0, inpt, output)\n",
    "        hex_code.append(a_set)\n",
    "    return np.array(hex_code)"
   ]
  },
  {
   "cell_type": "code",
   "execution_count": 7,
   "metadata": {},
   "outputs": [
    {
     "ename": "IndexError",
     "evalue": "string index out of range",
     "output_type": "error",
     "traceback": [
      "\u001b[1;31m---------------------------------------------------------------------------\u001b[0m",
      "\u001b[1;31mIndexError\u001b[0m                                Traceback (most recent call last)",
      "\u001b[1;32m<ipython-input-7-381893b0d4f4>\u001b[0m in \u001b[0;36m<module>\u001b[1;34m\u001b[0m\n\u001b[1;32m----> 1\u001b[1;33m \u001b[0mLED_verilog\u001b[0m \u001b[1;33m=\u001b[0m \u001b[0mequation_convert\u001b[0m\u001b[1;33m(\u001b[0m\u001b[0mLED_equations\u001b[0m\u001b[1;33m,\u001b[0m \u001b[1;34m\"next\"\u001b[0m\u001b[1;33m,\u001b[0m \u001b[1;34m\"present\"\u001b[0m\u001b[1;33m)\u001b[0m\u001b[1;33m\u001b[0m\u001b[1;33m\u001b[0m\u001b[0m\n\u001b[0m",
      "\u001b[1;32m<ipython-input-5-287069b1fad6>\u001b[0m in \u001b[0;36mequation_convert\u001b[1;34m(set_equations, inpt, out)\u001b[0m\n\u001b[0;32m      5\u001b[0m     \u001b[0mequations\u001b[0m \u001b[1;33m=\u001b[0m \u001b[1;33m[\u001b[0m\u001b[1;33m]\u001b[0m\u001b[1;33m\u001b[0m\u001b[1;33m\u001b[0m\u001b[0m\n\u001b[0;32m      6\u001b[0m     \u001b[1;32mfor\u001b[0m \u001b[0mone\u001b[0m \u001b[1;32min\u001b[0m \u001b[0mset_equations\u001b[0m\u001b[1;33m:\u001b[0m\u001b[1;33m\u001b[0m\u001b[1;33m\u001b[0m\u001b[0m\n\u001b[1;32m----> 7\u001b[1;33m         \u001b[0meq\u001b[0m \u001b[1;33m=\u001b[0m \u001b[0mparse_line\u001b[0m\u001b[1;33m(\u001b[0m\u001b[0mone\u001b[0m\u001b[1;33m,\u001b[0m \u001b[0minpt\u001b[0m\u001b[1;33m,\u001b[0m \u001b[0mout\u001b[0m\u001b[1;33m)\u001b[0m\u001b[1;33m\u001b[0m\u001b[1;33m\u001b[0m\u001b[0m\n\u001b[0m\u001b[0;32m      8\u001b[0m         \u001b[0mequations\u001b[0m\u001b[1;33m.\u001b[0m\u001b[0mappend\u001b[0m\u001b[1;33m(\u001b[0m\u001b[0meq\u001b[0m\u001b[1;33m)\u001b[0m\u001b[1;33m\u001b[0m\u001b[1;33m\u001b[0m\u001b[0m\n\u001b[0;32m      9\u001b[0m     \u001b[1;32mreturn\u001b[0m \u001b[0mnp\u001b[0m\u001b[1;33m.\u001b[0m\u001b[0marray\u001b[0m\u001b[1;33m(\u001b[0m\u001b[0mequations\u001b[0m\u001b[1;33m)\u001b[0m\u001b[1;33m\u001b[0m\u001b[1;33m\u001b[0m\u001b[0m\n",
      "\u001b[1;32m<ipython-input-4-60be58e2f632>\u001b[0m in \u001b[0;36mparse_line\u001b[1;34m(equation, inpt, output)\u001b[0m\n\u001b[0;32m     51\u001b[0m         \u001b[1;32mif\u001b[0m\u001b[1;33m(\u001b[0m\u001b[0mexpression\u001b[0m\u001b[1;33m[\u001b[0m\u001b[0mj\u001b[0m\u001b[1;33m]\u001b[0m \u001b[1;33m==\u001b[0m \u001b[1;34m\")\"\u001b[0m \u001b[1;32mand\u001b[0m \u001b[0mexpression\u001b[0m\u001b[1;33m[\u001b[0m\u001b[0mj\u001b[0m\u001b[1;33m+\u001b[0m\u001b[1;36m1\u001b[0m\u001b[1;33m]\u001b[0m \u001b[1;33m==\u001b[0m \u001b[1;34m\"(\"\u001b[0m\u001b[1;33m)\u001b[0m\u001b[1;33m:\u001b[0m\u001b[1;33m\u001b[0m\u001b[1;33m\u001b[0m\u001b[0m\n\u001b[0;32m     52\u001b[0m             \u001b[0mvalue\u001b[0m \u001b[1;33m+=\u001b[0m \u001b[1;34m\" & \"\u001b[0m\u001b[1;33m\u001b[0m\u001b[1;33m\u001b[0m\u001b[0m\n\u001b[1;32m---> 53\u001b[1;33m     \u001b[0mvalue\u001b[0m \u001b[1;33m=\u001b[0m \u001b[0mvalue\u001b[0m \u001b[1;33m+\u001b[0m \u001b[0mexpression\u001b[0m\u001b[1;33m[\u001b[0m\u001b[0mlen\u001b[0m\u001b[1;33m(\u001b[0m\u001b[0mvalue\u001b[0m\u001b[1;33m)\u001b[0m\u001b[1;33m]\u001b[0m\u001b[1;33m\u001b[0m\u001b[1;33m\u001b[0m\u001b[0m\n\u001b[0m\u001b[0;32m     54\u001b[0m     \u001b[1;32mreturn\u001b[0m \u001b[1;34m\"assign \"\u001b[0m \u001b[1;33m+\u001b[0m \u001b[0mf_x\u001b[0m \u001b[1;33m+\u001b[0m \u001b[1;34m\" = \"\u001b[0m \u001b[1;33m+\u001b[0m \u001b[1;34m\"(\"\u001b[0m \u001b[1;33m+\u001b[0m \u001b[0mvalue\u001b[0m \u001b[1;33m+\u001b[0m \u001b[1;34m\");\"\u001b[0m\u001b[1;33m\u001b[0m\u001b[1;33m\u001b[0m\u001b[0m\n",
      "\u001b[1;31mIndexError\u001b[0m: string index out of range"
     ]
    }
   ],
   "source": [
    "LED_verilog = equation_convert(LED_equations, \"next\", \"present\")"
   ]
  },
  {
   "cell_type": "code",
   "execution_count": 8,
   "metadata": {},
   "outputs": [
    {
     "ename": "IndexError",
     "evalue": "string index out of range",
     "output_type": "error",
     "traceback": [
      "\u001b[1;31m---------------------------------------------------------------------------\u001b[0m",
      "\u001b[1;31mIndexError\u001b[0m                                Traceback (most recent call last)",
      "\u001b[1;32m<ipython-input-8-d3fc6f7d29f9>\u001b[0m in \u001b[0;36m<module>\u001b[1;34m\u001b[0m\n\u001b[1;32m----> 1\u001b[1;33m \u001b[0mHEX_verilog\u001b[0m \u001b[1;33m=\u001b[0m \u001b[0mHEX_equation_convert\u001b[0m\u001b[1;33m(\u001b[0m\u001b[0mHEX_equations\u001b[0m\u001b[1;33m,\u001b[0m \u001b[1;34m\"out\"\u001b[0m\u001b[1;33m,\u001b[0m \u001b[1;34m\"in\"\u001b[0m\u001b[1;33m)\u001b[0m\u001b[1;33m\u001b[0m\u001b[1;33m\u001b[0m\u001b[0m\n\u001b[0m",
      "\u001b[1;32m<ipython-input-6-9484a5d0c0d9>\u001b[0m in \u001b[0;36mHEX_equation_convert\u001b[1;34m(hex_set, inpt, output)\u001b[0m\n\u001b[0;32m      6\u001b[0m     \u001b[0mhex_code\u001b[0m \u001b[1;33m=\u001b[0m \u001b[1;33m[\u001b[0m\u001b[1;33m]\u001b[0m\u001b[1;33m\u001b[0m\u001b[1;33m\u001b[0m\u001b[0m\n\u001b[0;32m      7\u001b[0m     \u001b[1;32mfor\u001b[0m \u001b[0mset_0\u001b[0m \u001b[1;32min\u001b[0m \u001b[0mhex_set\u001b[0m\u001b[1;33m:\u001b[0m\u001b[1;33m\u001b[0m\u001b[1;33m\u001b[0m\u001b[0m\n\u001b[1;32m----> 8\u001b[1;33m         \u001b[0ma_set\u001b[0m \u001b[1;33m=\u001b[0m \u001b[0mequation_convert\u001b[0m\u001b[1;33m(\u001b[0m\u001b[0mset_0\u001b[0m\u001b[1;33m,\u001b[0m \u001b[0minpt\u001b[0m\u001b[1;33m,\u001b[0m \u001b[0moutput\u001b[0m\u001b[1;33m)\u001b[0m\u001b[1;33m\u001b[0m\u001b[1;33m\u001b[0m\u001b[0m\n\u001b[0m\u001b[0;32m      9\u001b[0m         \u001b[0mhex_code\u001b[0m\u001b[1;33m.\u001b[0m\u001b[0mappend\u001b[0m\u001b[1;33m(\u001b[0m\u001b[0ma_set\u001b[0m\u001b[1;33m)\u001b[0m\u001b[1;33m\u001b[0m\u001b[1;33m\u001b[0m\u001b[0m\n\u001b[0;32m     10\u001b[0m     \u001b[1;32mreturn\u001b[0m \u001b[0mnp\u001b[0m\u001b[1;33m.\u001b[0m\u001b[0marray\u001b[0m\u001b[1;33m(\u001b[0m\u001b[0mhex_code\u001b[0m\u001b[1;33m)\u001b[0m\u001b[1;33m\u001b[0m\u001b[1;33m\u001b[0m\u001b[0m\n",
      "\u001b[1;32m<ipython-input-5-287069b1fad6>\u001b[0m in \u001b[0;36mequation_convert\u001b[1;34m(set_equations, inpt, out)\u001b[0m\n\u001b[0;32m      5\u001b[0m     \u001b[0mequations\u001b[0m \u001b[1;33m=\u001b[0m \u001b[1;33m[\u001b[0m\u001b[1;33m]\u001b[0m\u001b[1;33m\u001b[0m\u001b[1;33m\u001b[0m\u001b[0m\n\u001b[0;32m      6\u001b[0m     \u001b[1;32mfor\u001b[0m \u001b[0mone\u001b[0m \u001b[1;32min\u001b[0m \u001b[0mset_equations\u001b[0m\u001b[1;33m:\u001b[0m\u001b[1;33m\u001b[0m\u001b[1;33m\u001b[0m\u001b[0m\n\u001b[1;32m----> 7\u001b[1;33m         \u001b[0meq\u001b[0m \u001b[1;33m=\u001b[0m \u001b[0mparse_line\u001b[0m\u001b[1;33m(\u001b[0m\u001b[0mone\u001b[0m\u001b[1;33m,\u001b[0m \u001b[0minpt\u001b[0m\u001b[1;33m,\u001b[0m \u001b[0mout\u001b[0m\u001b[1;33m)\u001b[0m\u001b[1;33m\u001b[0m\u001b[1;33m\u001b[0m\u001b[0m\n\u001b[0m\u001b[0;32m      8\u001b[0m         \u001b[0mequations\u001b[0m\u001b[1;33m.\u001b[0m\u001b[0mappend\u001b[0m\u001b[1;33m(\u001b[0m\u001b[0meq\u001b[0m\u001b[1;33m)\u001b[0m\u001b[1;33m\u001b[0m\u001b[1;33m\u001b[0m\u001b[0m\n\u001b[0;32m      9\u001b[0m     \u001b[1;32mreturn\u001b[0m \u001b[0mnp\u001b[0m\u001b[1;33m.\u001b[0m\u001b[0marray\u001b[0m\u001b[1;33m(\u001b[0m\u001b[0mequations\u001b[0m\u001b[1;33m)\u001b[0m\u001b[1;33m\u001b[0m\u001b[1;33m\u001b[0m\u001b[0m\n",
      "\u001b[1;32m<ipython-input-4-60be58e2f632>\u001b[0m in \u001b[0;36mparse_line\u001b[1;34m(equation, inpt, output)\u001b[0m\n\u001b[0;32m     51\u001b[0m         \u001b[1;32mif\u001b[0m\u001b[1;33m(\u001b[0m\u001b[0mexpression\u001b[0m\u001b[1;33m[\u001b[0m\u001b[0mj\u001b[0m\u001b[1;33m]\u001b[0m \u001b[1;33m==\u001b[0m \u001b[1;34m\")\"\u001b[0m \u001b[1;32mand\u001b[0m \u001b[0mexpression\u001b[0m\u001b[1;33m[\u001b[0m\u001b[0mj\u001b[0m\u001b[1;33m+\u001b[0m\u001b[1;36m1\u001b[0m\u001b[1;33m]\u001b[0m \u001b[1;33m==\u001b[0m \u001b[1;34m\"(\"\u001b[0m\u001b[1;33m)\u001b[0m\u001b[1;33m:\u001b[0m\u001b[1;33m\u001b[0m\u001b[1;33m\u001b[0m\u001b[0m\n\u001b[0;32m     52\u001b[0m             \u001b[0mvalue\u001b[0m \u001b[1;33m+=\u001b[0m \u001b[1;34m\" & \"\u001b[0m\u001b[1;33m\u001b[0m\u001b[1;33m\u001b[0m\u001b[0m\n\u001b[1;32m---> 53\u001b[1;33m     \u001b[0mvalue\u001b[0m \u001b[1;33m=\u001b[0m \u001b[0mvalue\u001b[0m \u001b[1;33m+\u001b[0m \u001b[0mexpression\u001b[0m\u001b[1;33m[\u001b[0m\u001b[0mlen\u001b[0m\u001b[1;33m(\u001b[0m\u001b[0mvalue\u001b[0m\u001b[1;33m)\u001b[0m\u001b[1;33m]\u001b[0m\u001b[1;33m\u001b[0m\u001b[1;33m\u001b[0m\u001b[0m\n\u001b[0m\u001b[0;32m     54\u001b[0m     \u001b[1;32mreturn\u001b[0m \u001b[1;34m\"assign \"\u001b[0m \u001b[1;33m+\u001b[0m \u001b[0mf_x\u001b[0m \u001b[1;33m+\u001b[0m \u001b[1;34m\" = \"\u001b[0m \u001b[1;33m+\u001b[0m \u001b[1;34m\"(\"\u001b[0m \u001b[1;33m+\u001b[0m \u001b[0mvalue\u001b[0m \u001b[1;33m+\u001b[0m \u001b[1;34m\");\"\u001b[0m\u001b[1;33m\u001b[0m\u001b[1;33m\u001b[0m\u001b[0m\n",
      "\u001b[1;31mIndexError\u001b[0m: string index out of range"
     ]
    }
   ],
   "source": [
    "HEX_verilog = HEX_equation_convert(HEX_equations, \"out\", \"in\")"
   ]
  },
  {
   "cell_type": "code",
   "execution_count": 49,
   "metadata": {},
   "outputs": [
    {
     "name": "stdout",
     "output_type": "stream",
     "text": [
      "HEX Equations\n",
      "\n",
      "\n",
      "\n",
      "\n",
      "---------------------------\n",
      " SSD0.v\n",
      "\n",
      "\n",
      "assign out[0] = ((~in[3]) & (~in[2])) | ((~in[3]) & in[1]) | (in[2] & in[0]) | (in[3] & (~in[0]); \n",
      "\n",
      "assign out[1] = (in[2]) | ((~in[3]) & (~in[0])) | (in[3] & (~in[1]); \n",
      "\n",
      "assign out[2] = (in[3] & (~in[1])) | (in[2] & in[0]) | (in[2] & in[1]) | ((~in[3]) & (~in[2]) & (~in[0]); \n",
      "\n",
      "assign out[3] = ((~in[2]) & (~in[0])) | (in[2] & in[1]) | (in[3] & in[1]) | (in[3] & in[2); \n",
      "\n",
      "assign out[4] = (in[3] & in[2]) | (in[2] & (~in[1]) & (~in[0])) | (in[2] & in[1] & in[0]) | (in[3] & in[1] & in[0); \n",
      "\n",
      "assign out[5] = ((~in[3]) & in[1]) | (in[3] & in[2]) | ((~in[3]) & (~in[2]) & in[0); \n",
      "\n",
      "assign out[6] = (in[3] & (~in[1])) | ((~in[2]) & (~in[1]) & (~in[0])) | (in[2] & in[1] & in[0); \n",
      "\n",
      "\n",
      "---------------------------\n",
      " SSD1.v\n",
      "\n",
      "\n",
      "assign out[0] = (in[0]) | (in[1]) | (in[3] & (~in[2]); \n",
      "\n",
      "assign out[1] = ((~in[3]) & (~in[2])) | ((~in[2]) & in[0]) | (in[2] & (~in[1]); \n",
      "\n",
      "assign out[2] = (in[2] & (~in[1])) | (in[3] & in[0]) | ((~in[3]) & (~in[2]) & (~in[0])) | ((~in[3]) & (~in[2]) & in[1); \n",
      "\n",
      "assign out[3] = ((~in[3]) & (~in[2])) | ((~in[2]) & (~in[0])) | ((~in[2]) & in[1]) | (in[1] & (~in[0])) | (in[2] & (~in[1]) & in[0); \n",
      "\n",
      "assign out[4] = (in[2] & (~in[1]) & in[0]) | ((~in[3]) & (~in[2]) & in[1] & (~in[0]); \n",
      "\n",
      "assign out[5] = ((~in[3]) & (~in[1]) & in[0]) | (in[2] & (~in[1]) & in[0]) | ((~in[3]) & (~in[2]) & in[1] & (~in[0]); \n",
      "\n",
      "assign out[6] = (in[1] & in[0]) | (in[2] & in[0]) | ((~in[3]) & (~in[2]) & in[1); \n",
      "\n",
      "\n",
      "---------------------------\n",
      " SSD2.v\n",
      "\n",
      "\n",
      "assign out[0] = ((~in[2]) & (~in[1])) | ((~in[3]) & (~in[0])) | ((~in[3]) & in[1]) | (in[3] & in[0); \n",
      "\n",
      "assign out[1] = ((~in[2]) & (~in[1])) | ((~in[3]) & in[0]) | ((~in[1]) & in[0]) | (in[2] & in[1]) | (in[3] & (~in[2]) & (~in[0]); \n",
      "\n",
      "assign out[2] = ((~in[2]) & (~in[1])) | (in[2] & in[1]) | ((~in[3]) & (~in[2]) & in[0]) | (in[3] & (~in[2]) & (~in[0])) | (in[3] & (~in[1]) & in[0); \n",
      "\n",
      "assign out[3] = ((~in[2]) & (~in[1])) | (in[3] & (~in[1])) | (in[1] & in[0); \n",
      "\n",
      "assign out[4] = (in[3] & in[2]) | ((~in[2]) & (~in[1]) & (~in[0])) | (in[2] & (~in[1]) & in[0); \n",
      "\n",
      "assign out[5] = ((~in[3]) & (~in[2]) & (~in[0])) | ((~in[3]) & (~in[1]) & (~in[0])) | ((~in[2]) & (~in[1]) & (~in[0])) | ((~in[3]) & in[1] & in[0]) | (in[3] & in[2] & in[0); \n",
      "\n",
      "assign out[6] = ((~in[2]) & (~in[1])) | (in[3] & (~in[2]) & (~in[0])) | (in[3] & (~in[1]) & in[0); \n",
      "\n",
      "\n",
      "---------------------------\n",
      " SSD3.v\n",
      "\n",
      "\n",
      "assign out[0] = ((~in[0])) | (in[1]) | (in[3] & (~in[2]); \n",
      "\n",
      "assign out[1] = ((~in[3]) & (~in[2])) | (in[2] & (~in[1])) | (in[1] & (~in[0]); \n",
      "\n",
      "assign out[2] = ((~in[3]) & (~in[1])) | (in[2] & (~in[1])) | (in[2] & (~in[0])) | ((~in[3]) & (~in[2]) & in[0]) | (in[3] & in[1] & (~in[0]); \n",
      "\n",
      "assign out[3] = ((~in[3]) & (~in[2])) | ((~in[2]) & in[0]) | ((~in[3]) & in[1]) | (in[2] & (~in[0]); \n",
      "\n",
      "assign out[4] = (in[2] & in[1] & (~in[0])) | ((~in[3]) & (~in[2]) & (~in[1]) & (~in[0])) | ((~in[3]) & (~in[2]) & in[1] & in[0); \n",
      "\n",
      "assign out[5] = ((~in[3]) & (~in[2]) & (~in[0])) | ((~in[3]) & (~in[2]) & in[1]) | ((~in[3]) & in[1] & (~in[0]); \n",
      "\n",
      "assign out[6] = ((~in[1]) & (~in[0])) | (in[2] & (~in[0])) | ((~in[3]) & (~in[2]) & in[1] & in[0); \n",
      "\n"
     ]
    }
   ],
   "source": [
    "print(\"HEX Equations\\n\\n\\n\")\n",
    "for i in range(len(HEX_verilog)):\n",
    "    print(\"\\n---------------------------\\n\", \"SSD\" + str(i) + \".v\\n\\n\")\n",
    "    for j in range(len(HEX_verilog[i])):\n",
    "        print(HEX_verilog[i][j], \"\\n\")"
   ]
  },
  {
   "cell_type": "code",
   "execution_count": 50,
   "metadata": {},
   "outputs": [
    {
     "name": "stdout",
     "output_type": "stream",
     "text": [
      "LED Equations\n",
      "\n",
      "\n",
      "\n",
      "assign next[0] = (present[3] & (~present[2])) | (present[3] & (~present[0])) | (present[2]present[1]present[0); \n",
      "\n",
      "assign next[1] = (present[2] & (~present[0])) | ((~present[2])present[1]present[0]) | ((~present[3])present[2] & (~present[1]); \n",
      "\n",
      "assign next[2] = (present[1] & (~present[0])) | ((~present[3]) & (~present[1])present[0]) | ((~present[2]) & (~present[1])present[0); \n",
      "\n",
      "assign next[3] = ((~present[0]); \n",
      "\n"
     ]
    }
   ],
   "source": [
    "print(\"LED Equations\\n\\n\\n\")\n",
    "for i in range(len(LED_verilog)):\n",
    "    print(LED_verilog[i], \"\\n\")"
   ]
  }
 ],
 "metadata": {
  "kernelspec": {
   "display_name": "Python 3",
   "language": "python",
   "name": "python3"
  },
  "language_info": {
   "codemirror_mode": {
    "name": "ipython",
    "version": 3
   },
   "file_extension": ".py",
   "mimetype": "text/x-python",
   "name": "python",
   "nbconvert_exporter": "python",
   "pygments_lexer": "ipython3",
   "version": "3.7.3"
  }
 },
 "nbformat": 4,
 "nbformat_minor": 2
}
