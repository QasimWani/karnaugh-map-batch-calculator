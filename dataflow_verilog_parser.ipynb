{
 "cells": [
  {
   "cell_type": "code",
   "execution_count": 11,
   "metadata": {},
   "outputs": [],
   "source": [
    "#Convert K-Map derived Sum of Product Equations into Dataflow verilog Code."
   ]
  },
  {
   "cell_type": "code",
   "execution_count": 63,
   "metadata": {},
   "outputs": [],
   "source": [
    "import numpy as np\n",
    "import time"
   ]
  },
  {
   "cell_type": "code",
   "execution_count": 152,
   "metadata": {},
   "outputs": [],
   "source": [
    "LED_equations = np.array([\"D[0] = Y₃Y₂' + Y₃Y₁' + Y₃Y₀' + Y₃'Y₂Y₁Y₀\",\n",
    "        \"D[1] = Y₂Y₁' + Y₂Y₀' + Y₂'Y₁Y₀\", \"D[2] = Y₁'Y₀ + Y₁Y₀'\",\n",
    "        \"D[3] = Y₀'\"])\n",
    "HEX_equations = np.array([[\"D[0] = Y₃'Y₁' + Y₂'Y₀ + Y₁'Y₀ + Y₃Y₁\",\n",
    "        \"D[1] = Y₁'Y₀' + Y₂Y₁' + Y₂Y₀' + Y₃Y₁ + Y₃'Y₂'Y₀\",\n",
    "        \"D[2] = Y₃Y₀' + Y₃Y₂ + Y₃'Y₂'Y₀ + Y₃'Y₁'Y₀\",\n",
    "        \"D[3] = Y₀ + Y₁ + Y₃'Y₂\", \"D[4] = Y₂Y₁'Y₀ + Y₃Y₂Y₁\",\n",
    "        \"D[5] = Y₃'Y₁'Y₀ + Y₃'Y₂Y₁' + Y₂Y₁'Y₀ + Y₂Y₁Y₀' + Y₃Y₁Y₀\",\n",
    "        \"D[6] = Y₃Y₂Y₁ + Y₃Y₂'Y₀' + Y₂Y₁'Y₀ + Y₃'Y₂'Y₁Y₀\"],\n",
    "       [\"D[0] = Y₃'Y₁' + Y₃'Y₀' + Y₂Y₀' + Y₃Y₁\",\n",
    "        \"D[1] = Y₂ + Y₃'Y₁' + Y₃'Y₀' + Y₃Y₀\",\n",
    "        \"D[2] = Y₃'Y₀' + Y₃Y₀ + Y₂Y₁Y₀'\", \"D[3] = Y₀' + Y₁ + Y₃'Y₂\",\n",
    "        \"D[4] = Y₂Y₁Y₀' + Y₃Y₂Y₁ + Y₃'Y₂'Y₁'Y₀'\",\n",
    "        \"D[5] = Y₂Y₁ + Y₃'Y₂'Y₀' + Y₃'Y₂Y₀ + Y₃Y₂Y₀'\",\n",
    "        \"D[6] = Y₃'Y₁'Y₀' + Y₂Y₁Y₀' + Y₃Y₂'Y₀ + Y₃Y₁Y₀\"],\n",
    "       [\"D[0] = Y₃'Y₂' + Y₃'Y₀ + Y₃'Y₁ + Y₁Y₀ + Y₃Y₂Y₁'\",\n",
    "        \"D[1] = Y₃'Y₂' + Y₃'Y₁ + Y₂Y₀ + Y₃Y₀'\",\n",
    "        \"D[2] = Y₃'Y₀ + Y₃'Y₂'Y₁' + Y₂Y₁Y₀ + Y₃Y₁Y₀' + Y₃Y₂Y₀'\",\n",
    "        \"D[3] = Y₁' + Y₀ + Y₃'Y₂\", \"D[4] = Y₃'Y₂'Y₁' + Y₂Y₁Y₀\",\n",
    "        \"D[5] = Y₂'Y₁'Y₀' + Y₃'Y₂'Y₀ + Y₃'Y₂Y₁ + Y₃Y₂Y₀\",\n",
    "        \"D[6] = Y₃'Y₂'Y₁' + Y₃'Y₁'Y₀ + Y₂Y₁Y₀ + Y₃Y₂'Y₁Y₀' + Y₃Y₂Y₁'Y₀'\"],\n",
    "       [\"D[0] = Y₃'Y₂' + Y₁'Y₀' + Y₃'Y₁ + Y₂Y₀' + Y₃Y₂Y₁'\",\n",
    "        \"D[1] = Y₃'Y₂' + Y₂'Y₁' + Y₃'Y₀' + Y₂Y₁ + Y₃Y₀\",\n",
    "        \"D[2] = Y₃'Y₀' + Y₃'Y₂'Y₁' + Y₂'Y₁'Y₀' + Y₃Y₁Y₀ + Y₃Y₂Y₀\",\n",
    "        \"D[3] = Y₁' + Y₀' + Y₃'Y₂\",\n",
    "        \"D[4] = Y₃'Y₂'Y₁' + Y₃'Y₂'Y₀' + Y₂'Y₁'Y₀'\",\n",
    "        \"D[5] = Y₂'Y₁' + Y₃'Y₂'Y₀' + Y₃'Y₁'Y₀' + Y₃'Y₂Y₁Y₀ + Y₃Y₂Y₁Y₀'\",\n",
    "        \"D[6] = Y₃'Y₂'Y₁' + Y₂'Y₁'Y₀' + Y₃'Y₁Y₀' + Y₃Y₂'Y₁Y₀ + Y₃Y₂Y₁'Y₀\"]])"
   ]
  },
  {
   "cell_type": "code",
   "execution_count": 153,
   "metadata": {},
   "outputs": [],
   "source": [
    "def parse_line(equation, inpt, output):\n",
    "    \"\"\"\n",
    "    Parses individual equation to verilog equation.\n",
    "    Parameter:\n",
    "    1. equation: The equation to convert into verilog code.\n",
    "    2. inpt: The input variable names.\n",
    "    3. output: The output variable names.\n",
    "    Returns:\n",
    "    1. verilog: The corresponding verilog code\n",
    "    \"\"\"\n",
    "    index = 0\n",
    "    counter = 0\n",
    "    \n",
    "    result = equation.split(\" = \")[0]\n",
    "    \n",
    "    f_x = \"\"\n",
    "    expression = \"\"\n",
    "    \n",
    "    for res in result:\n",
    "        if(res.isnumeric()):\n",
    "            f_x += str(int(res))\n",
    "        else:\n",
    "            if(res == 'D'):\n",
    "                f_x += inpt\n",
    "            else:\n",
    "                f_x += res\n",
    "                \n",
    "    express = equation.split(\" =\")[1] + \" \"\n",
    "    SUB_NORM = str.maketrans(\"₀₁₂₃₄₅₆₇₈₉\",  \"0123456789\")\n",
    "    express = express.translate(SUB_NORM)\n",
    "    express = express.replace(\"+\", \"|\")\n",
    "    express = express.replace(\"Y\", output)\n",
    "    \n",
    "    for i in range(len(express)-1):\n",
    "        if(express[i+1] == \"'\"):\n",
    "            expression += \"(\" + \"~\" + output + \"[\" + str(int(express[i])) + \"])\" \n",
    "        elif(express[i+1] != \"'\" and express[i].isnumeric()):\n",
    "            expression += output + \"[\" + str(int(express[i])) + \"]\"\n",
    "        if(express[i] == \"|\"):\n",
    "            expression += \") | (\"\n",
    "        \n",
    "    value = \"\"\n",
    "    for j in range(len(expression)-1):\n",
    "        value += expression[j]\n",
    "        if(expression[j] == \"]\" and expression[j+1] == output[0]):\n",
    "            value += \" & \"\n",
    "        if(expression[j] == \")\" and expression[j+1] == output[0]):\n",
    "            value += \" & \"\n",
    "        if(expression[j] == \"]\" and expression[j+1] == \"(\"):\n",
    "            value += \" & \"\n",
    "        if(expression[j] == \")\" and expression[j+1] == \"(\"):\n",
    "            value += \" & \"\n",
    "    value = value + expression[-1]\n",
    "    return \"assign \" + f_x + \" = \" + \"(\" + value + \");\""
   ]
  },
  {
   "cell_type": "code",
   "execution_count": null,
   "metadata": {},
   "outputs": [],
   "source": []
  },
  {
   "cell_type": "code",
   "execution_count": 154,
   "metadata": {},
   "outputs": [],
   "source": [
    "def equation_convert(set_equations, inpt, out):\n",
    "    \"\"\"\n",
    "    Converts set of boolean expressions into dataflow verilog.\n",
    "    \"\"\"\n",
    "    equations = []\n",
    "    for one in set_equations:\n",
    "        eq = parse_line(one, inpt, out)\n",
    "        equations.append(eq)\n",
    "    return np.array(equations)"
   ]
  },
  {
   "cell_type": "code",
   "execution_count": 155,
   "metadata": {},
   "outputs": [],
   "source": [
    "def HEX_equation_convert(hex_set, inpt, output):\n",
    "    \"\"\"\n",
    "    Converts series of HEX equations to dataflow verilog structure.\n",
    "    Returns verilog code.\n",
    "    \"\"\"\n",
    "    hex_code = []\n",
    "    for set_0 in hex_set:\n",
    "        a_set = equation_convert(set_0, inpt, output)\n",
    "        hex_code.append(a_set)\n",
    "    return np.array(hex_code)"
   ]
  },
  {
   "cell_type": "code",
   "execution_count": 156,
   "metadata": {},
   "outputs": [],
   "source": [
    "LED_verilog = equation_convert(LED_equations, \"next\", \"present\")"
   ]
  },
  {
   "cell_type": "code",
   "execution_count": 157,
   "metadata": {},
   "outputs": [],
   "source": [
    "HEX_verilog = HEX_equation_convert(HEX_equations, \"out\", \"in\")"
   ]
  },
  {
   "cell_type": "code",
   "execution_count": 158,
   "metadata": {},
   "outputs": [],
   "source": [
    "def to_nands(verilog, mult=False):\n",
    "    \"\"\"Converts code to NANDS and Inverters\"\"\"\n",
    "    NAND = []\n",
    "    if(mult == True):\n",
    "        for xx in verilog:\n",
    "            ind_nand = []\n",
    "            for cc in xx:\n",
    "                one_eq = cc.replace(\"| \", \"& ~\")\n",
    "                one_eq = one_eq.replace(\"= \", \"= ~( ~\")\n",
    "                one_eq = one_eq.replace(\";\", \" );\")\n",
    "                ind_nand.append(one_eq)\n",
    "            NAND.append(ind_nand)\n",
    "    else:\n",
    "        for cc in verilog:\n",
    "            one_eq = cc.replace(\"| \", \"& ~\")\n",
    "            one_eq = one_eq.replace(\"= \", \"= ~( ~\")\n",
    "            one_eq = one_eq.replace(\";\", \" );\")\n",
    "            NAND.append(one_eq)\n",
    "    return np.array(NAND)"
   ]
  },
  {
   "cell_type": "code",
   "execution_count": 159,
   "metadata": {},
   "outputs": [],
   "source": [
    "LED_verilog_NANDS = to_nands(LED_verilog)"
   ]
  },
  {
   "cell_type": "code",
   "execution_count": 160,
   "metadata": {},
   "outputs": [
    {
     "name": "stdout",
     "output_type": "stream",
     "text": [
      "LED Equations\n",
      "\n",
      "\n",
      "\n",
      "assign next[0] = ~( ~(present[3] & (~present[2])) & ~(present[3] & (~present[1])) & ~(present[3] & (~present[0])) & ~((~present[3]) & present[2] & present[1] & present[0]) ); \n",
      "\n",
      "assign next[1] = ~( ~(present[2] & (~present[1])) & ~(present[2] & (~present[0])) & ~((~present[2]) & present[1] & present[0]) ); \n",
      "\n",
      "assign next[2] = ~( ~((~present[1]) & present[0]) & ~(present[1] & (~present[0])) ); \n",
      "\n",
      "assign next[3] = ~( ~((~present[0])) ); \n",
      "\n"
     ]
    }
   ],
   "source": [
    "print(\"LED Equations\\n\\n\\n\")\n",
    "for i in range(len(LED_verilog_NANDS)):\n",
    "    print(LED_verilog_NANDS[i], \"\\n\")"
   ]
  },
  {
   "cell_type": "code",
   "execution_count": 161,
   "metadata": {},
   "outputs": [
    {
     "data": {
      "text/plain": [
       "array(['assign next[0] = (present[3] & (~present[2])) | (present[3] & (~present[1])) | (present[3] & (~present[0])) | ((~present[3]) & present[2] & present[1] & present[0]);',\n",
       "       'assign next[1] = (present[2] & (~present[1])) | (present[2] & (~present[0])) | ((~present[2]) & present[1] & present[0]);',\n",
       "       'assign next[2] = ((~present[1]) & present[0]) | (present[1] & (~present[0]));',\n",
       "       'assign next[3] = ((~present[0]));'], dtype='<U165')"
      ]
     },
     "execution_count": 161,
     "metadata": {},
     "output_type": "execute_result"
    }
   ],
   "source": [
    "LED_verilog"
   ]
  },
  {
   "cell_type": "code",
   "execution_count": 162,
   "metadata": {},
   "outputs": [],
   "source": [
    "HEX_verilog_NAND = to_nands(HEX_verilog, True)"
   ]
  },
  {
   "cell_type": "code",
   "execution_count": 163,
   "metadata": {},
   "outputs": [
    {
     "name": "stdout",
     "output_type": "stream",
     "text": [
      "HEX Equations\n",
      "\n",
      "\n",
      "\n",
      "\n",
      "---------------------------\n",
      " SSD0.v\n",
      "\n",
      "\n",
      "assign out[0] = ~( ~((~in[3]) & (~in[1])) & ~((~in[2]) & in[0]) & ~((~in[1]) & in[0]) & ~(in[3] & in[1]) ); \n",
      "\n",
      "assign out[1] = ~( ~((~in[1]) & (~in[0])) & ~(in[2] & (~in[1])) & ~(in[2] & (~in[0])) & ~(in[3] & in[1]) & ~((~in[3]) & (~in[2]) & in[0]) ); \n",
      "\n",
      "assign out[2] = ~( ~(in[3] & (~in[0])) & ~(in[3] & in[2]) & ~((~in[3]) & (~in[2]) & in[0]) & ~((~in[3]) & (~in[1]) & in[0]) ); \n",
      "\n",
      "assign out[3] = ~( ~(in[0]) & ~(in[1]) & ~((~in[3]) & in[2]) ); \n",
      "\n",
      "assign out[4] = ~( ~(in[2] & (~in[1]) & in[0]) & ~(in[3] & in[2] & in[1]) ); \n",
      "\n",
      "assign out[5] = ~( ~((~in[3]) & (~in[1]) & in[0]) & ~((~in[3]) & in[2] & (~in[1])) & ~(in[2] & (~in[1]) & in[0]) & ~(in[2] & in[1] & (~in[0])) & ~(in[3] & in[1] & in[0]) ); \n",
      "\n",
      "assign out[6] = ~( ~(in[3] & in[2] & in[1]) & ~(in[3] & (~in[2]) & (~in[0])) & ~(in[2] & (~in[1]) & in[0]) & ~((~in[3]) & (~in[2]) & in[1] & in[0]) ); \n",
      "\n",
      "\n",
      "---------------------------\n",
      " SSD1.v\n",
      "\n",
      "\n",
      "assign out[0] = ~( ~((~in[3]) & (~in[1])) & ~((~in[3]) & (~in[0])) & ~(in[2] & (~in[0])) & ~(in[3] & in[1]) ); \n",
      "\n",
      "assign out[1] = ~( ~(in[2]) & ~((~in[3]) & (~in[1])) & ~((~in[3]) & (~in[0])) & ~(in[3] & in[0]) ); \n",
      "\n",
      "assign out[2] = ~( ~((~in[3]) & (~in[0])) & ~(in[3] & in[0]) & ~(in[2] & in[1] & (~in[0])) ); \n",
      "\n",
      "assign out[3] = ~( ~((~in[0])) & ~(in[1]) & ~((~in[3]) & in[2]) ); \n",
      "\n",
      "assign out[4] = ~( ~(in[2] & in[1] & (~in[0])) & ~(in[3] & in[2] & in[1]) & ~((~in[3]) & (~in[2]) & (~in[1]) & (~in[0])) ); \n",
      "\n",
      "assign out[5] = ~( ~(in[2] & in[1]) & ~((~in[3]) & (~in[2]) & (~in[0])) & ~((~in[3]) & in[2] & in[0]) & ~(in[3] & in[2] & (~in[0])) ); \n",
      "\n",
      "assign out[6] = ~( ~((~in[3]) & (~in[1]) & (~in[0])) & ~(in[2] & in[1] & (~in[0])) & ~(in[3] & (~in[2]) & in[0]) & ~(in[3] & in[1] & in[0]) ); \n",
      "\n",
      "\n",
      "---------------------------\n",
      " SSD2.v\n",
      "\n",
      "\n",
      "assign out[0] = ~( ~((~in[3]) & (~in[2])) & ~((~in[3]) & in[0]) & ~((~in[3]) & in[1]) & ~(in[1] & in[0]) & ~(in[3] & in[2] & (~in[1])) ); \n",
      "\n",
      "assign out[1] = ~( ~((~in[3]) & (~in[2])) & ~((~in[3]) & in[1]) & ~(in[2] & in[0]) & ~(in[3] & (~in[0])) ); \n",
      "\n",
      "assign out[2] = ~( ~((~in[3]) & in[0]) & ~((~in[3]) & (~in[2]) & (~in[1])) & ~(in[2] & in[1] & in[0]) & ~(in[3] & in[1] & (~in[0])) & ~(in[3] & in[2] & (~in[0])) ); \n",
      "\n",
      "assign out[3] = ~( ~((~in[1])) & ~(in[0]) & ~((~in[3]) & in[2]) ); \n",
      "\n",
      "assign out[4] = ~( ~((~in[3]) & (~in[2]) & (~in[1])) & ~(in[2] & in[1] & in[0]) ); \n",
      "\n",
      "assign out[5] = ~( ~((~in[2]) & (~in[1]) & (~in[0])) & ~((~in[3]) & (~in[2]) & in[0]) & ~((~in[3]) & in[2] & in[1]) & ~(in[3] & in[2] & in[0]) ); \n",
      "\n",
      "assign out[6] = ~( ~((~in[3]) & (~in[2]) & (~in[1])) & ~((~in[3]) & (~in[1]) & in[0]) & ~(in[2] & in[1] & in[0]) & ~(in[3] & (~in[2]) & in[1] & (~in[0])) & ~(in[3] & in[2] & (~in[1]) & (~in[0])) ); \n",
      "\n",
      "\n",
      "---------------------------\n",
      " SSD3.v\n",
      "\n",
      "\n",
      "assign out[0] = ~( ~((~in[3]) & (~in[2])) & ~((~in[1]) & (~in[0])) & ~((~in[3]) & in[1]) & ~(in[2] & (~in[0])) & ~(in[3] & in[2] & (~in[1])) ); \n",
      "\n",
      "assign out[1] = ~( ~((~in[3]) & (~in[2])) & ~((~in[2]) & (~in[1])) & ~((~in[3]) & (~in[0])) & ~(in[2] & in[1]) & ~(in[3] & in[0]) ); \n",
      "\n",
      "assign out[2] = ~( ~((~in[3]) & (~in[0])) & ~((~in[3]) & (~in[2]) & (~in[1])) & ~((~in[2]) & (~in[1]) & (~in[0])) & ~(in[3] & in[1] & in[0]) & ~(in[3] & in[2] & in[0]) ); \n",
      "\n",
      "assign out[3] = ~( ~((~in[1])) & ~((~in[0])) & ~((~in[3]) & in[2]) ); \n",
      "\n",
      "assign out[4] = ~( ~((~in[3]) & (~in[2]) & (~in[1])) & ~((~in[3]) & (~in[2]) & (~in[0])) & ~((~in[2]) & (~in[1]) & (~in[0])) ); \n",
      "\n",
      "assign out[5] = ~( ~((~in[2]) & (~in[1])) & ~((~in[3]) & (~in[2]) & (~in[0])) & ~((~in[3]) & (~in[1]) & (~in[0])) & ~((~in[3]) & in[2] & in[1] & in[0]) & ~(in[3] & in[2] & in[1] & (~in[0])) ); \n",
      "\n",
      "assign out[6] = ~( ~((~in[3]) & (~in[2]) & (~in[1])) & ~((~in[2]) & (~in[1]) & (~in[0])) & ~((~in[3]) & in[1] & (~in[0])) & ~(in[3] & (~in[2]) & in[1] & in[0]) & ~(in[3] & in[2] & (~in[1]) & in[0]) ); \n",
      "\n"
     ]
    }
   ],
   "source": [
    "print(\"HEX Equations\\n\\n\\n\")\n",
    "for i in range(len(HEX_verilog_NAND)):\n",
    "    print(\"\\n---------------------------\\n\", \"SSD\" + str(i) + \".v\\n\\n\")\n",
    "    for j in range(len(HEX_verilog_NAND[i])):\n",
    "        print(HEX_verilog_NAND[i][j], \"\\n\")"
   ]
  },
  {
   "cell_type": "code",
   "execution_count": null,
   "metadata": {},
   "outputs": [],
   "source": []
  },
  {
   "cell_type": "code",
   "execution_count": null,
   "metadata": {},
   "outputs": [],
   "source": []
  }
 ],
 "metadata": {
  "kernelspec": {
   "display_name": "Python 3",
   "language": "python",
   "name": "python3"
  },
  "language_info": {
   "codemirror_mode": {
    "name": "ipython",
    "version": 3
   },
   "file_extension": ".py",
   "mimetype": "text/x-python",
   "name": "python",
   "nbconvert_exporter": "python",
   "pygments_lexer": "ipython3",
   "version": "3.7.3"
  }
 },
 "nbformat": 4,
 "nbformat_minor": 2
}
