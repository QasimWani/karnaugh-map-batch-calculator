{
 "cells": [
  {
   "cell_type": "code",
   "execution_count": 2,
   "metadata": {},
   "outputs": [],
   "source": [
    "#Solve Karnaugh Maps using Q-map Solver Scraper."
   ]
  },
  {
   "cell_type": "code",
   "execution_count": 3,
   "metadata": {},
   "outputs": [],
   "source": [
    "import numpy as np\n",
    "import pandas as pd\n",
    "import matplotlib.pyplot as plt\n",
    "from selenium import webdriver\n",
    "import time"
   ]
  },
  {
   "cell_type": "code",
   "execution_count": 11,
   "metadata": {},
   "outputs": [],
   "source": [
    "truth_table = [\"\"\"1\t1\t1\t1\t0\t0\t1\n",
    "1\t0\t0\t0\t0\t1\t0\n",
    "1\t1\t1\t1\t0\t1\t0\n",
    "1\t0\t0\t0\t0\t1\t0\n",
    "0\t1\t0\t0\t1\t0\t0\n",
    "1\t1\t1\t0\t0\t0\t0\n",
    "1\t1\t1\t1\t0\t1\t0\n",
    "1\t1\t1\t1\t1\t1\t1\n",
    "1\t1\t1\t1\t0\t0\t1\n",
    "0\t1\t1\t0\t0\t0\t1\n",
    "1\t0\t0\t1\t0\t0\t0\n",
    "0\t0\t0\t1\t1\t0\t0\n",
    "1\t1\t1\t1\t1\t1\t1\n",
    "1\t1\t1\t1\t1\t1\t1\n",
    "X\tX\tX\tX\tX\tX\tX\n",
    "X\tX\tX\tX\tX\tX\tX\"\"\",\"\"\"0\t1\t1\t1\t0\t0\t0\n",
    "1\t1\t0\t1\t0\t1\t0\n",
    "1\t1\t1\t1\t1\t1\t1\n",
    "1\t1\t1\t1\t0\t0\t1\n",
    "0\t1\t1\t0\t0\t0\t0\n",
    "1\t1\t1\t1\t1\t1\t1\n",
    "1\t0\t0\t1\t0\t0\t0\n",
    "1\t0\t0\t0\t0\t0\t1\n",
    "1\t0\t0\t1\t0\t0\t0\n",
    "1\t1\t1\t0\t0\t0\t0\n",
    "1\t0\t0\t1\t0\t0\t0\n",
    "1\t1\t1\t1\t0\t0\t1\n",
    "0\t1\t1\t0\t0\t0\t0\n",
    "1\t1\t1\t1\t1\t1\t1\n",
    "X\tX\tX\tX\tX\tX\tX\n",
    "X\tX\tX\tX\tX\tX\tX\"\"\",\"\"\"1\t1\t1\t1\t1\t1\t1\n",
    "1\t1\t1\t1\t0\t0\t1\n",
    "1\t0\t0\t0\t0\t1\t0\n",
    "1\t1\t1\t1\t0\t1\t0\n",
    "1\t0\t0\t0\t0\t1\t0\n",
    "0\t1\t0\t0\t1\t0\t0\n",
    "1\t1\t1\t0\t0\t0\t0\n",
    "1\t1\t1\t1\t0\t1\t0\n",
    "1\t1\t1\t1\t1\t1\t1\n",
    "1\t1\t1\t1\t0\t0\t1\n",
    "0\t1\t1\t0\t0\t0\t1\n",
    "1\t0\t0\t1\t0\t0\t0\n",
    "0\t0\t0\t1\t1\t0\t0\n",
    "1\t1\t1\t1\t1\t1\t1\n",
    "X\tX\tX\tX\tX\tX\tX\n",
    "X\tX\tX\tX\tX\tX\tX\"\"\",\"\"\"1\t1\t1\t1\t1\t1\t1\n",
    "0\t1\t1\t1\t0\t0\t0\n",
    "1\t1\t0\t1\t0\t1\t0\n",
    "1\t1\t1\t1\t1\t1\t1\n",
    "1\t1\t1\t1\t0\t0\t1\n",
    "0\t1\t1\t0\t0\t0\t0\n",
    "1\t1\t1\t1\t1\t1\t1\n",
    "1\t0\t0\t1\t0\t0\t0\n",
    "1\t0\t0\t0\t0\t0\t1\n",
    "1\t0\t0\t1\t0\t0\t0\n",
    "1\t1\t1\t0\t0\t0\t0\n",
    "1\t0\t0\t1\t0\t0\t0\n",
    "1\t1\t1\t1\t0\t0\t1\n",
    "0\t1\t1\t0\t0\t0\t0\n",
    "X\tX\tX\tX\tX\tX\tX\n",
    "X\tX\tX\tX\tX\tX\tX\"\"\"]\n",
    "\n",
    "LED_truth_table = [\"\"\"0\t0\t0\t1\n",
    "0\t0\t1\t0\n",
    "0\t0\t1\t1\n",
    "0\t1\t0\t0\n",
    "0\t1\t0\t1\n",
    "0\t1\t1\t0\n",
    "0\t1\t1\t1\n",
    "1\t0\t0\t0\n",
    "1\t0\t0\t1\n",
    "1\t0\t1\t0\n",
    "1\t0\t1\t1\n",
    "1\t1\t0\t0\n",
    "1\t1\t0\t1\n",
    "0\t0\t0\t0\n",
    "X\tX\tX\tX\n",
    "X\tX\tX\tX\"\"\"]"
   ]
  },
  {
   "cell_type": "code",
   "execution_count": 12,
   "metadata": {},
   "outputs": [],
   "source": [
    "def raw_one_data(truth_table):\n",
    "    \"\"\"Converts list() of truth table to individual set. Does for one table only.\"\"\"\n",
    "    truth_table = truth_table.replace(\"\\t\", \",\")\n",
    "    truth_table = truth_table.replace(\"X\", \"2\")\n",
    "    truth_table = np.array(truth_table.split(\"\\n\")) \n",
    "    new_truth_table = []\n",
    "    for i in range(len(truth_table)):\n",
    "        one_val = truth_table[i].split(\",\")\n",
    "        one_row = []\n",
    "        for app in one_val:\n",
    "            one_row.append(int(app))\n",
    "        new_truth_table.append(one_row)\n",
    "    return np.array(new_truth_table)"
   ]
  },
  {
   "cell_type": "code",
   "execution_count": 13,
   "metadata": {},
   "outputs": [],
   "source": [
    "def process_data(table):\n",
    "    \"\"\"\n",
    "    Process Each truth table.\n",
    "    Returns a list of processed truth tables.\n",
    "    \"\"\"\n",
    "    processed_truth_table = []\n",
    "    for one_table in table:\n",
    "        processed_truth_table.append(raw_one_data(one_table))\n",
    "    return np.array(processed_truth_table)"
   ]
  },
  {
   "cell_type": "code",
   "execution_count": 14,
   "metadata": {},
   "outputs": [],
   "source": [
    "def data_launch(br):\n",
    "    \"\"\"\n",
    "    launches the driver session's k-map solver webpage.\n",
    "    \"\"\"\n",
    "    br.get(\"http://www.32x8.com/var4.html\") \n",
    "    table = br.find_elements_by_tag_name(\"table\")[-1]\n",
    "    rows = table.find_element_by_tag_name(\"tbody\")\n",
    "    rows = rows.find_elements_by_tag_name(\"tr\")[2:]\n",
    "    return rows"
   ]
  },
  {
   "cell_type": "code",
   "execution_count": 15,
   "metadata": {},
   "outputs": [],
   "source": [
    "import chromedriver_binary ##--> Change the Chrome Version Build to v.78 for executable path.\n",
    "br = webdriver.Chrome(executable_path=r'C:/Users/qasim/Downloads/chromedriver_win32_v78/chromedriver.exe')\n",
    "rows = data_launch(br)"
   ]
  },
  {
   "cell_type": "code",
   "execution_count": 16,
   "metadata": {},
   "outputs": [],
   "source": [
    "def insert_data(elem, data):\n",
    "    \"\"\"\n",
    "    Inserts data from the np.array() of k-maps into the table\n",
    "    on chrome-driver session.\n",
    "    Submits the page.\n",
    "    Parameters:\n",
    "    1. elem: The set of np.array() elements with input field.\n",
    "    2. data: np.array() 1x16 array of data.\n",
    "    \"\"\"\n",
    "    \n",
    "    insert = elem[0:-1]\n",
    "    for value, radio_web in zip(data, insert):\n",
    "        row = radio_web.find_elements_by_tag_name(\"input\")\n",
    "        for i in range(len(row)):\n",
    "            if(i == value):\n",
    "                row[i].click()\n",
    "    elem[-1].find_elements_by_tag_name(\"input\")[-1].click()"
   ]
  },
  {
   "cell_type": "code",
   "execution_count": 17,
   "metadata": {},
   "outputs": [],
   "source": [
    "def one_hex_input(elem, data):\n",
    "    \"\"\"\n",
    "    Returns a list of K-map equations for each individual LED display.\n",
    "    Parameters:\n",
    "    1. elem: np.array() row object.\n",
    "    2. data: 16x7 vector of k-map truth table data.\n",
    "    Returns:\n",
    "    1. List: np.array() object of shape => 7x1, set of equations.\n",
    "    \"\"\"\n",
    "    num = 0\n",
    "    equations = []\n",
    "    dataframes = []\n",
    "    new_truth_table = data.T\n",
    "    for x in new_truth_table:\n",
    "        insert_data(elem, x)\n",
    "        sop_elem = br.find_element_by_css_selector(\"div#sop\").find_elements_by_css_selector(\"div\")[5].text \n",
    "\n",
    "        sop_elem = sop_elem.replace(\"A\", \"Y₃\")\n",
    "        sop_elem = sop_elem.replace(\"B\", \"Y₂\")\n",
    "        sop_elem = sop_elem.replace(\"C\", \"Y₁\")\n",
    "        sop_elem = sop_elem.replace(\"D\", \"Y₀\")\n",
    "        sop_elem = sop_elem.replace(\"y\", \"D[\" + str(num) + \"]\")\n",
    "\n",
    "        df = br.find_element_by_css_selector(\"div#sop\").find_elements_by_css_selector(\"div\")[2].text  \n",
    "        grid = []\n",
    "        df = df.split(\"\\n\")[2:]\n",
    "        for spl in df:\n",
    "            grid.append(spl.split(\" \")[1:])\n",
    "        equations.append(sop_elem)\n",
    "        df = pd.DataFrame(grid, index=['00', '01', '11', '10'], columns=['00', '01', '11', '10'])\n",
    "        dataframes.append(df)\n",
    "        elem = data_launch(br)\n",
    "        num += 1\n",
    "    return np.array(equations), dataframes"
   ]
  },
  {
   "cell_type": "code",
   "execution_count": 18,
   "metadata": {},
   "outputs": [],
   "source": [
    "def create_func(rows, new_truth_table):\n",
    "    k_maps = []\n",
    "    grids = []\n",
    "    for tables in new_truth_table:\n",
    "        km, gr = one_hex_input(rows, tables)\n",
    "        k_maps.append(km)\n",
    "        grids.append(gr)\n",
    "        rows = data_launch(br)\n",
    "    return np.array(k_maps), grids"
   ]
  },
  {
   "cell_type": "code",
   "execution_count": 19,
   "metadata": {},
   "outputs": [],
   "source": [
    "new_truth_table = process_data(truth_table)\n",
    "k_maps, grids = create_func(rows, new_truth_table)\n",
    "time.sleep(1)"
   ]
  },
  {
   "cell_type": "code",
   "execution_count": 20,
   "metadata": {},
   "outputs": [],
   "source": [
    "LED_rows = data_launch(br)\n",
    "new_LED_truth_table = process_data(LED_truth_table)\n",
    "led_kmaps, led_grids = create_func(LED_rows, new_LED_truth_table)"
   ]
  },
  {
   "cell_type": "code",
   "execution_count": 21,
   "metadata": {},
   "outputs": [
    {
     "data": {
      "text/html": [
       "<div>\n",
       "<style scoped>\n",
       "    .dataframe tbody tr th:only-of-type {\n",
       "        vertical-align: middle;\n",
       "    }\n",
       "\n",
       "    .dataframe tbody tr th {\n",
       "        vertical-align: top;\n",
       "    }\n",
       "\n",
       "    .dataframe thead th {\n",
       "        text-align: right;\n",
       "    }\n",
       "</style>\n",
       "<table border=\"1\" class=\"dataframe\">\n",
       "  <thead>\n",
       "    <tr style=\"text-align: right;\">\n",
       "      <th></th>\n",
       "      <th>00</th>\n",
       "      <th>01</th>\n",
       "      <th>11</th>\n",
       "      <th>10</th>\n",
       "    </tr>\n",
       "  </thead>\n",
       "  <tbody>\n",
       "    <tr>\n",
       "      <th>00</th>\n",
       "      <td>1</td>\n",
       "      <td>1</td>\n",
       "      <td>1</td>\n",
       "      <td>1</td>\n",
       "    </tr>\n",
       "    <tr>\n",
       "      <th>01</th>\n",
       "      <td>0</td>\n",
       "      <td>1</td>\n",
       "      <td>1</td>\n",
       "      <td>1</td>\n",
       "    </tr>\n",
       "    <tr>\n",
       "      <th>11</th>\n",
       "      <td>1</td>\n",
       "      <td>1</td>\n",
       "      <td>x</td>\n",
       "      <td>x</td>\n",
       "    </tr>\n",
       "    <tr>\n",
       "      <th>10</th>\n",
       "      <td>1</td>\n",
       "      <td>0</td>\n",
       "      <td>0</td>\n",
       "      <td>1</td>\n",
       "    </tr>\n",
       "  </tbody>\n",
       "</table>\n",
       "</div>"
      ],
      "text/plain": [
       "   00 01 11 10\n",
       "00  1  1  1  1\n",
       "01  0  1  1  1\n",
       "11  1  1  x  x\n",
       "10  1  0  0  1"
      ]
     },
     "execution_count": 21,
     "metadata": {},
     "output_type": "execute_result"
    }
   ],
   "source": [
    "grids[0][0]"
   ]
  },
  {
   "cell_type": "code",
   "execution_count": 22,
   "metadata": {},
   "outputs": [
    {
     "data": {
      "text/plain": [
       "array([\"D[0] = Y₃'Y₂' + Y₃'Y₁ + Y₂Y₀ + Y₃Y₀'\",\n",
       "       \"D[1] = Y₂ + Y₃'Y₀' + Y₃Y₁'\",\n",
       "       \"D[2] = Y₃Y₁' + Y₂Y₀ + Y₂Y₁ + Y₃'Y₂'Y₀'\",\n",
       "       \"D[3] = Y₂'Y₀' + Y₂Y₁ + Y₃Y₁ + Y₃Y₂\",\n",
       "       \"D[4] = Y₃Y₂ + Y₂Y₁'Y₀' + Y₂Y₁Y₀ + Y₃Y₁Y₀\",\n",
       "       \"D[5] = Y₃'Y₁ + Y₃Y₂ + Y₃'Y₂'Y₀\",\n",
       "       \"D[6] = Y₃Y₁' + Y₂'Y₁'Y₀' + Y₂Y₁Y₀\"], dtype='<U59')"
      ]
     },
     "execution_count": 22,
     "metadata": {},
     "output_type": "execute_result"
    }
   ],
   "source": [
    "k_maps[0]"
   ]
  },
  {
   "cell_type": "code",
   "execution_count": 23,
   "metadata": {},
   "outputs": [],
   "source": [
    "#32 K_maps with their tables in less than 45 seconds."
   ]
  },
  {
   "cell_type": "code",
   "execution_count": 24,
   "metadata": {},
   "outputs": [
    {
     "data": {
      "text/html": [
       "<div>\n",
       "<style scoped>\n",
       "    .dataframe tbody tr th:only-of-type {\n",
       "        vertical-align: middle;\n",
       "    }\n",
       "\n",
       "    .dataframe tbody tr th {\n",
       "        vertical-align: top;\n",
       "    }\n",
       "\n",
       "    .dataframe thead th {\n",
       "        text-align: right;\n",
       "    }\n",
       "</style>\n",
       "<table border=\"1\" class=\"dataframe\">\n",
       "  <thead>\n",
       "    <tr style=\"text-align: right;\">\n",
       "      <th></th>\n",
       "      <th>00</th>\n",
       "      <th>01</th>\n",
       "      <th>11</th>\n",
       "      <th>10</th>\n",
       "    </tr>\n",
       "  </thead>\n",
       "  <tbody>\n",
       "    <tr>\n",
       "      <th>00</th>\n",
       "      <td>0</td>\n",
       "      <td>0</td>\n",
       "      <td>0</td>\n",
       "      <td>0</td>\n",
       "    </tr>\n",
       "    <tr>\n",
       "      <th>01</th>\n",
       "      <td>0</td>\n",
       "      <td>0</td>\n",
       "      <td>1</td>\n",
       "      <td>0</td>\n",
       "    </tr>\n",
       "    <tr>\n",
       "      <th>11</th>\n",
       "      <td>1</td>\n",
       "      <td>0</td>\n",
       "      <td>x</td>\n",
       "      <td>x</td>\n",
       "    </tr>\n",
       "    <tr>\n",
       "      <th>10</th>\n",
       "      <td>1</td>\n",
       "      <td>1</td>\n",
       "      <td>1</td>\n",
       "      <td>1</td>\n",
       "    </tr>\n",
       "  </tbody>\n",
       "</table>\n",
       "</div>"
      ],
      "text/plain": [
       "   00 01 11 10\n",
       "00  0  0  0  0\n",
       "01  0  0  1  0\n",
       "11  1  0  x  x\n",
       "10  1  1  1  1"
      ]
     },
     "execution_count": 24,
     "metadata": {},
     "output_type": "execute_result"
    }
   ],
   "source": [
    "led_grids[0][0]"
   ]
  },
  {
   "cell_type": "code",
   "execution_count": 25,
   "metadata": {},
   "outputs": [
    {
     "name": "stdout",
     "output_type": "stream",
     "text": [
      "HEX Display K-Maps. Number = 28\n",
      "HEX Display Number: 0\n",
      "\n",
      " D[0] = Y₃'Y₂' + Y₃'Y₁ + Y₂Y₀ + Y₃Y₀'\n",
      "\n",
      " D[1] = Y₂ + Y₃'Y₀' + Y₃Y₁'\n",
      "\n",
      " D[2] = Y₃Y₁' + Y₂Y₀ + Y₂Y₁ + Y₃'Y₂'Y₀'\n",
      "\n",
      " D[3] = Y₂'Y₀' + Y₂Y₁ + Y₃Y₁ + Y₃Y₂\n",
      "\n",
      " D[4] = Y₃Y₂ + Y₂Y₁'Y₀' + Y₂Y₁Y₀ + Y₃Y₁Y₀\n",
      "\n",
      " D[5] = Y₃'Y₁ + Y₃Y₂ + Y₃'Y₂'Y₀\n",
      "\n",
      " D[6] = Y₃Y₁' + Y₂'Y₁'Y₀' + Y₂Y₁Y₀\n",
      "--------------------------------------\n",
      "HEX Display Number: 1\n",
      "\n",
      " D[0] = Y₀ + Y₁ + Y₃Y₂'\n",
      "\n",
      " D[1] = Y₃'Y₂' + Y₂'Y₀ + Y₂Y₁'\n",
      "\n",
      " D[2] = Y₂Y₁' + Y₃Y₀ + Y₃'Y₂'Y₀' + Y₃'Y₂'Y₁\n",
      "\n",
      " D[3] = Y₃'Y₂' + Y₂'Y₀' + Y₂'Y₁ + Y₁Y₀' + Y₂Y₁'Y₀\n",
      "\n",
      " D[4] = Y₂Y₁'Y₀ + Y₃'Y₂'Y₁Y₀'\n",
      "\n",
      " D[5] = Y₃'Y₁'Y₀ + Y₂Y₁'Y₀ + Y₃'Y₂'Y₁Y₀'\n",
      "\n",
      " D[6] = Y₁Y₀ + Y₂Y₀ + Y₃'Y₂'Y₁\n",
      "--------------------------------------\n",
      "HEX Display Number: 2\n",
      "\n",
      " D[0] = Y₂'Y₁' + Y₃'Y₀' + Y₃'Y₁ + Y₃Y₀\n",
      "\n",
      " D[1] = Y₂'Y₁' + Y₃'Y₀ + Y₁'Y₀ + Y₂Y₁ + Y₃Y₂'Y₀'\n",
      "\n",
      " D[2] = Y₂'Y₁' + Y₂Y₁ + Y₃'Y₂'Y₀ + Y₃Y₂'Y₀' + Y₃Y₁'Y₀\n",
      "\n",
      " D[3] = Y₂'Y₁' + Y₃Y₁' + Y₁Y₀\n",
      "\n",
      " D[4] = Y₃Y₂ + Y₂'Y₁'Y₀' + Y₂Y₁'Y₀\n",
      "\n",
      " D[5] = Y₃'Y₂'Y₀' + Y₃'Y₁'Y₀' + Y₂'Y₁'Y₀' + Y₃'Y₁Y₀ + Y₃Y₂Y₀\n",
      "\n",
      " D[6] = Y₂'Y₁' + Y₃Y₂'Y₀' + Y₃Y₁'Y₀\n",
      "--------------------------------------\n",
      "HEX Display Number: 3\n",
      "\n",
      " D[0] = Y₀' + Y₁ + Y₃Y₂'\n",
      "\n",
      " D[1] = Y₃'Y₂' + Y₂Y₁' + Y₁Y₀'\n",
      "\n",
      " D[2] = Y₃'Y₁' + Y₂Y₁' + Y₂Y₀' + Y₃'Y₂'Y₀ + Y₃Y₁Y₀'\n",
      "\n",
      " D[3] = Y₃'Y₂' + Y₂'Y₀ + Y₃'Y₁ + Y₂Y₀'\n",
      "\n",
      " D[4] = Y₂Y₁Y₀' + Y₃'Y₂'Y₁'Y₀' + Y₃'Y₂'Y₁Y₀\n",
      "\n",
      " D[5] = Y₃'Y₂'Y₀' + Y₃'Y₂'Y₁ + Y₃'Y₁Y₀'\n",
      "\n",
      " D[6] = Y₁'Y₀' + Y₂Y₀' + Y₃'Y₂'Y₁Y₀\n",
      "--------------------------------------\n"
     ]
    }
   ],
   "source": [
    "print(\"HEX Display K-Maps. Number = \" + str(len(k_maps)*len(k_maps[0])))\n",
    "i = 0\n",
    "for maps in k_maps:\n",
    "    print(\"HEX Display Number: \" + str(i))\n",
    "    for mx in maps:\n",
    "        print(\"\\n\",mx)\n",
    "    print(\"--------------------------------------\")\n",
    "    i += 1"
   ]
  },
  {
   "cell_type": "code",
   "execution_count": 26,
   "metadata": {},
   "outputs": [
    {
     "name": "stdout",
     "output_type": "stream",
     "text": [
      "LED Display K-Maps. Number = 4\n",
      "\n",
      " D[0] = Y₃Y₂' + Y₃Y₀' + Y₂Y₁Y₀\n",
      "\n",
      " D[1] = Y₂Y₀' + Y₂'Y₁Y₀ + Y₃'Y₂Y₁'\n",
      "\n",
      " D[2] = Y₁Y₀' + Y₃'Y₁'Y₀ + Y₂'Y₁'Y₀\n",
      "\n",
      " D[3] = Y₀'\n"
     ]
    }
   ],
   "source": [
    "print(\"LED Display K-Maps. Number = \" + str(len(led_kmaps[0])))\n",
    "for lmap in led_kmaps[0]:\n",
    "    print(\"\\n\",lmap)"
   ]
  },
  {
   "cell_type": "code",
   "execution_count": 27,
   "metadata": {},
   "outputs": [
    {
     "data": {
      "text/html": [
       "<div>\n",
       "<style scoped>\n",
       "    .dataframe tbody tr th:only-of-type {\n",
       "        vertical-align: middle;\n",
       "    }\n",
       "\n",
       "    .dataframe tbody tr th {\n",
       "        vertical-align: top;\n",
       "    }\n",
       "\n",
       "    .dataframe thead th {\n",
       "        text-align: right;\n",
       "    }\n",
       "</style>\n",
       "<table border=\"1\" class=\"dataframe\">\n",
       "  <thead>\n",
       "    <tr style=\"text-align: right;\">\n",
       "      <th></th>\n",
       "      <th>00</th>\n",
       "      <th>01</th>\n",
       "      <th>11</th>\n",
       "      <th>10</th>\n",
       "    </tr>\n",
       "  </thead>\n",
       "  <tbody>\n",
       "    <tr>\n",
       "      <th>00</th>\n",
       "      <td>1</td>\n",
       "      <td>0</td>\n",
       "      <td>1</td>\n",
       "      <td>0</td>\n",
       "    </tr>\n",
       "    <tr>\n",
       "      <th>01</th>\n",
       "      <td>1</td>\n",
       "      <td>0</td>\n",
       "      <td>0</td>\n",
       "      <td>1</td>\n",
       "    </tr>\n",
       "    <tr>\n",
       "      <th>11</th>\n",
       "      <td>1</td>\n",
       "      <td>0</td>\n",
       "      <td>x</td>\n",
       "      <td>x</td>\n",
       "    </tr>\n",
       "    <tr>\n",
       "      <th>10</th>\n",
       "      <td>1</td>\n",
       "      <td>0</td>\n",
       "      <td>0</td>\n",
       "      <td>0</td>\n",
       "    </tr>\n",
       "  </tbody>\n",
       "</table>\n",
       "</div>"
      ],
      "text/plain": [
       "   00 01 11 10\n",
       "00  1  0  1  0\n",
       "01  1  0  0  1\n",
       "11  1  0  x  x\n",
       "10  1  0  0  0"
      ]
     },
     "execution_count": 27,
     "metadata": {},
     "output_type": "execute_result"
    }
   ],
   "source": [
    "grids[3][6]"
   ]
  },
  {
   "cell_type": "code",
   "execution_count": 29,
   "metadata": {},
   "outputs": [
    {
     "data": {
      "text/plain": [
       "array([[\"D[0] = Y₃Y₂' + Y₃Y₀' + Y₂Y₁Y₀\",\n",
       "        \"D[1] = Y₂Y₀' + Y₂'Y₁Y₀ + Y₃'Y₂Y₁'\",\n",
       "        \"D[2] = Y₁Y₀' + Y₃'Y₁'Y₀ + Y₂'Y₁'Y₀\", \"D[3] = Y₀'\"]], dtype='<U34')"
      ]
     },
     "execution_count": 29,
     "metadata": {},
     "output_type": "execute_result"
    }
   ],
   "source": [
    "led_kmaps"
   ]
  },
  {
   "cell_type": "code",
   "execution_count": 30,
   "metadata": {},
   "outputs": [],
   "source": [
    "LE_E2_test = [\"\"\"0\t1\t1\t1\t0\t0\t0\n",
    "1\t1\t1\t1\t0\t0\t1\n",
    "1\t1\t0\t1\t0\t1\t0\n",
    "1\t0\t0\t0\t0\t1\t0\n",
    "1\t1\t1\t1\t1\t1\t1\n",
    "1\t1\t1\t1\t0\t1\t0\n",
    "0\t1\t1\t0\t0\t0\t0\n",
    "0\t1\t0\t0\t1\t0\t0\n",
    "1\t1\t1\t0\t0\t0\t0\n",
    "1\t0\t0\t1\t0\t0\t0\n",
    "1\t0\t0\t0\t0\t0\t1\n",
    "0\t1\t1\t0\t0\t0\t1\n",
    "0\t0\t0\t1\t1\t0\t0\n",
    "X\tX\tX\tX\tX\tX\tX\n",
    "X\tX\tX\tX\tX\tX\tX\n",
    "X\tX\tX\tX\tX\tX\tX\"\"\"]"
   ]
  },
  {
   "cell_type": "code",
   "execution_count": 31,
   "metadata": {},
   "outputs": [],
   "source": [
    "LE_rows = data_launch(br)\n",
    "new_LE_E2_test = process_data(LE_E2_test)\n",
    "le2_kmaps, le2_grids = create_func(LE_rows, new_LE_E2_test)"
   ]
  },
  {
   "cell_type": "code",
   "execution_count": 47,
   "metadata": {},
   "outputs": [
    {
     "data": {
      "text/html": [
       "<div>\n",
       "<style scoped>\n",
       "    .dataframe tbody tr th:only-of-type {\n",
       "        vertical-align: middle;\n",
       "    }\n",
       "\n",
       "    .dataframe tbody tr th {\n",
       "        vertical-align: top;\n",
       "    }\n",
       "\n",
       "    .dataframe thead th {\n",
       "        text-align: right;\n",
       "    }\n",
       "</style>\n",
       "<table border=\"1\" class=\"dataframe\">\n",
       "  <thead>\n",
       "    <tr style=\"text-align: right;\">\n",
       "      <th></th>\n",
       "      <th>00</th>\n",
       "      <th>01</th>\n",
       "      <th>11</th>\n",
       "      <th>10</th>\n",
       "    </tr>\n",
       "  </thead>\n",
       "  <tbody>\n",
       "    <tr>\n",
       "      <th>00</th>\n",
       "      <td>1</td>\n",
       "      <td>0</td>\n",
       "      <td>0</td>\n",
       "      <td>1</td>\n",
       "    </tr>\n",
       "    <tr>\n",
       "      <th>01</th>\n",
       "      <td>1</td>\n",
       "      <td>0</td>\n",
       "      <td>0</td>\n",
       "      <td>1</td>\n",
       "    </tr>\n",
       "    <tr>\n",
       "      <th>11</th>\n",
       "      <td>1</td>\n",
       "      <td>0</td>\n",
       "      <td>x</td>\n",
       "      <td>x</td>\n",
       "    </tr>\n",
       "    <tr>\n",
       "      <th>10</th>\n",
       "      <td>1</td>\n",
       "      <td>0</td>\n",
       "      <td>0</td>\n",
       "      <td>1</td>\n",
       "    </tr>\n",
       "  </tbody>\n",
       "</table>\n",
       "</div>"
      ],
      "text/plain": [
       "   00 01 11 10\n",
       "00  1  0  0  1\n",
       "01  1  0  0  1\n",
       "11  1  0  x  x\n",
       "10  1  0  0  1"
      ]
     },
     "execution_count": 47,
     "metadata": {},
     "output_type": "execute_result"
    }
   ],
   "source": [
    "led_grids[0][3]"
   ]
  },
  {
   "cell_type": "code",
   "execution_count": null,
   "metadata": {},
   "outputs": [],
   "source": []
  }
 ],
 "metadata": {
  "kernelspec": {
   "display_name": "Python 3",
   "language": "python",
   "name": "python3"
  },
  "language_info": {
   "codemirror_mode": {
    "name": "ipython",
    "version": 3
   },
   "file_extension": ".py",
   "mimetype": "text/x-python",
   "name": "python",
   "nbconvert_exporter": "python",
   "pygments_lexer": "ipython3",
   "version": "3.7.3"
  }
 },
 "nbformat": 4,
 "nbformat_minor": 2
}
